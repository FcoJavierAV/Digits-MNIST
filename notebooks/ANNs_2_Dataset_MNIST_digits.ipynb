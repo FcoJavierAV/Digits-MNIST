{
  "cells": [
    {
      "cell_type": "markdown",
      "metadata": {
        "id": "H6MpQ6O8w2bC"
      },
      "source": [
        "Vamos a crear una red neuronal para tratar con un conjunto mucho más grande, el dataset de MNIST de dígitos. Veremos que el tiempo de cómputo se incrementa se hace necesario el uso de GPU, el cual hace Keras por nosotros."
      ]
    },
    {
      "cell_type": "markdown",
      "metadata": {
        "id": "B_3ev_OrxbuI"
      },
      "source": [
        "# Conjunto MNIST de dígitos\n",
        "\n",
        "Son 70.000 imágenes de dígitos manuscritos del 0 al 9. Tamaño es 28x28, en escala de grises. El conjunto se divide en 60.000 imágenes para train y 10.000 para test.\n",
        "\n",
        "Vamos a crear una red neuronal que será capaz de \"ver\", pero por ahora, sin usar operadores avanzados, es decir, convolución (CNN Convolutional Neural Network)"
      ]
    },
    {
      "cell_type": "code",
      "execution_count": 2,
      "metadata": {
        "id": "Ft2TnjH1xZG0"
      },
      "outputs": [],
      "source": [
        "import keras\n",
        "from keras.datasets import mnist\n",
        "from matplotlib import pyplot as plt\n",
        "import numpy as np"
      ]
    },
    {
      "cell_type": "code",
      "execution_count": 3,
      "metadata": {
        "colab": {
          "base_uri": "https://localhost:8080/"
        },
        "id": "DrwH_XsezToy",
        "outputId": "cbdaedb1-5bd1-477a-c805-246817b55567"
      },
      "outputs": [
        {
          "name": "stdout",
          "output_type": "stream",
          "text": [
            "Downloading data from https://storage.googleapis.com/tensorflow/tf-keras-datasets/mnist.npz\n",
            "\u001b[1m11490434/11490434\u001b[0m \u001b[32m━━━━━━━━━━━━━━━━━━━━\u001b[0m\u001b[37m\u001b[0m \u001b[1m2s\u001b[0m 0us/step\n"
          ]
        }
      ],
      "source": [
        "(x_train, y_train), (x_test, y_test) = mnist.load_data()"
      ]
    },
    {
      "cell_type": "code",
      "execution_count": 4,
      "metadata": {
        "colab": {
          "base_uri": "https://localhost:8080/"
        },
        "id": "PuoCNGXfzwhY",
        "outputId": "7dfd2e18-aed6-4145-e9f1-7aab68b0e8a2"
      },
      "outputs": [
        {
          "name": "stdout",
          "output_type": "stream",
          "text": [
            "Shape:  (60000, 28, 28)\n"
          ]
        }
      ],
      "source": [
        "# El método shape nos devuelve la forma del conjunto 60.000 imágenes de 28x28\n",
        "print(\"Shape: \", x_train.shape)"
      ]
    },
    {
      "cell_type": "code",
      "execution_count": 5,
      "metadata": {
        "colab": {
          "base_uri": "https://localhost:8080/",
          "height": 430
        },
        "id": "6aYpCaBF0TJ-",
        "outputId": "39afdd14-4aa2-4be1-c976-149682eb2b83"
      },
      "outputs": [
        {
          "data": {
            "image/png": "[encoded data removed]",
            "text/plain": [
              "<Figure size 640x480 with 1 Axes>"
            ]
          },
          "metadata": {},
          "output_type": "display_data"
        }
      ],
      "source": [
        "# Veamos una imágen cualquiera, por ejemplo la que tiene el índice 125\n",
        "image = np.array(x_train[125], dtype = 'float')\n",
        "plt.imshow(image, cmap='gray')\n",
        "plt.show()"
      ]
    },
    {
      "cell_type": "code",
      "execution_count": 6,
      "metadata": {
        "colab": {
          "base_uri": "https://localhost:8080/"
        },
        "id": "8I1-RUSY05Gc",
        "outputId": "b6caad85-7ee9-4431-c79d-364daa121140"
      },
      "outputs": [
        {
          "name": "stdout",
          "output_type": "stream",
          "text": [
            "Label:  8\n"
          ]
        }
      ],
      "source": [
        "print(\"Label: \", y_train[125])"
      ]
    },
    {
      "cell_type": "markdown",
      "metadata": {
        "id": "1do0hDSR1S-9"
      },
      "source": [
        "También es necesario saber en que rango de valores se mueven nuestras muestras."
      ]
    },
    {
      "cell_type": "code",
      "execution_count": 7,
      "metadata": {
        "colab": {
          "base_uri": "https://localhost:8080/"
        },
        "id": "k1lmyGi-1akJ",
        "outputId": "645b710d-f36d-4517-d660-5fb671cc3a76"
      },
      "outputs": [
        {
          "name": "stdout",
          "output_type": "stream",
          "text": [
            "Max value:  255\n",
            "Min value:  0\n"
          ]
        }
      ],
      "source": [
        "print(\"Max value: \", max(x_train[125].reshape(784)))\n",
        "print(\"Min value: \", min(x_train[125].reshape(784)))"
      ]
    },
    {
      "cell_type": "code",
      "execution_count": 8,
      "metadata": {
        "colab": {
          "base_uri": "https://localhost:8080/"
        },
        "id": "PlORodJt2PgB",
        "outputId": "6bc5e3dd-361d-424c-cdbe-6379de1e1c11"
      },
      "outputs": [
        {
          "name": "stdout",
          "output_type": "stream",
          "text": [
            "Elemento 125:  [[  0   0   0   0   0   0   0   0   0   0   0   0   0   0   0   0   0   0\n",
            "    0   0   0   0   0   0   0   0   0   0]\n",
            " [  0   0   0   0   0   0   0   0   0   0   0   0   0   0   0   0   0   0\n",
            "    0   0   0   0   0   0   0   0   0   0]\n",
            " [  0   0   0   0   0   0   0   0   0   0   0   0   0   0   0   0   0   0\n",
            "    0   0   0   0   0   0   0   0   0   0]\n",
            " [  0   0   0   0   0   0   0   0   0   0   0   0   0   0   0   0   0   0\n",
            "    0   0   0   0   0   0   0   0   0   0]\n",
            " [  0   0   0   0   0   0   0   0   0   0   0   0   0   0   0   0   0   0\n",
            "    0  52 241  86   0   0   0   0   0   0]\n",
            " [  0   0   0   0   0   0   0   0   0   0   0   0   3  13  13 108 137 137\n",
            "  137 238 254  24   0   0   0   0   0   0]\n",
            " [  0   0   0   0   0   0   0   0   0   0   0   0 121 254 254 254 254 254\n",
            "  254 254 254 103   2   0   0   0   0   0]\n",
            " [  0   0   0   0   0   0   0   0   0   0  23 149 222 254 248 229 237 254\n",
            "  246 184 105 241  18   0   0   0   0   0]\n",
            " [  0   0   0   0   0   0   0   0   0   0 115 254 248 134  75   0  91 254\n",
            "   91   0   0  90   7   0   0   0   0   0]\n",
            " [  0   0   0   0   0   0   0   0   0   0  83 254 143   0   0  63 235 224\n",
            "   37   0   0   0   0   0   0   0   0   0]\n",
            " [  0   0   0   0   0   0   0   0   0   0  38 254 238  71  11 204 205  17\n",
            "    0   0   0   0   0   0   0   0   0   0]\n",
            " [  0   0   0   0   0   0   0   0   0   0  31 238 254 237 194 254 155   0\n",
            "    0   0   0   0   0   0   0   0   0   0]\n",
            " [  0   0   0   0   0   0   0   0   0   0   0  71 237 254 254 178  16   0\n",
            "    0   0   0   0   0   0   0   0   0   0]\n",
            " [  0   0   0   0   0   0   0   0   0   0   0   0 174 254 254 203  41   0\n",
            "    0   0   0   0   0   0   0   0   0   0]\n",
            " [  0   0   0   0   0   0   0   0   0   0   0  34 235 254 254 254 149   0\n",
            "    0   0   0   0   0   0   0   0   0   0]\n",
            " [  0   0   0   0   0   0   0   0   0   0  12 167 254 201 198 254 238  75\n",
            "    0   0   0   0   0   0   0   0   0   0]\n",
            " [  0   0   0   0   0   0   0   0   0   0  78 254 214  15  12 205 254 239\n",
            "   35   0   0   0   0   0   0   0   0   0]\n",
            " [  0   0   0   0   0   0   0   0   0  27 239 254 162   0   0 193 254 254\n",
            "   43   0   0   0   0   0   0   0   0   0]\n",
            " [  0   0   0   0   0   0   0   0   0 138 254 238  51   0   0 193 254 225\n",
            "   27   0   0   0   0   0   0   0   0   0]\n",
            " [  0   0   0   0   0   0   0   0  10 194 254 101   0   0   0 193 254 125\n",
            "    0   0   0   0   0   0   0   0   0   0]\n",
            " [  0   0   0   0   0   0   0   0  25 254 220   9   0   0 109 249 186   5\n",
            "    0   0   0   0   0   0   0   0   0   0]\n",
            " [  0   0   0   0   0   0   0   0 141 254 217  20 113 201 250 254 125   0\n",
            "    0   0   0   0   0   0   0   0   0   0]\n",
            " [  0   0   0   0   0   0   0  18 250 254 253 245 254 254 254 131   3   0\n",
            "    0   0   0   0   0   0   0   0   0   0]\n",
            " [  0   0   0   0   0   0   0   1  91 255 255 255 255 166  39   2   0   0\n",
            "    0   0   0   0   0   0   0   0   0   0]\n",
            " [  0   0   0   0   0   0   0   0   0   0   0   0   0   0   0   0   0   0\n",
            "    0   0   0   0   0   0   0   0   0   0]\n",
            " [  0   0   0   0   0   0   0   0   0   0   0   0   0   0   0   0   0   0\n",
            "    0   0   0   0   0   0   0   0   0   0]\n",
            " [  0   0   0   0   0   0   0   0   0   0   0   0   0   0   0   0   0   0\n",
            "    0   0   0   0   0   0   0   0   0   0]\n",
            " [  0   0   0   0   0   0   0   0   0   0   0   0   0   0   0   0   0   0\n",
            "    0   0   0   0   0   0   0   0   0   0]]\n",
            "\n",
            " Elemento 125:  [  0   0   0   0   0   0   0   0   0   0   0   0   0   0   0   0   0   0\n",
            "   0   0   0   0   0   0   0   0   0   0   0   0   0   0   0   0   0   0\n",
            "   0   0   0   0   0   0   0   0   0   0   0   0   0   0   0   0   0   0\n",
            "   0   0   0   0   0   0   0   0   0   0   0   0   0   0   0   0   0   0\n",
            "   0   0   0   0   0   0   0   0   0   0   0   0   0   0   0   0   0   0\n",
            "   0   0   0   0   0   0   0   0   0   0   0   0   0   0   0   0   0   0\n",
            "   0   0   0   0   0   0   0   0   0   0   0   0   0   0   0   0   0   0\n",
            "   0   0   0   0   0  52 241  86   0   0   0   0   0   0   0   0   0   0\n",
            "   0   0   0   0   0   0   0   0   3  13  13 108 137 137 137 238 254  24\n",
            "   0   0   0   0   0   0   0   0   0   0   0   0   0   0   0   0   0   0\n",
            " 121 254 254 254 254 254 254 254 254 103   2   0   0   0   0   0   0   0\n",
            "   0   0   0   0   0   0   0   0  23 149 222 254 248 229 237 254 246 184\n",
            " 105 241  18   0   0   0   0   0   0   0   0   0   0   0   0   0   0   0\n",
            " 115 254 248 134  75   0  91 254  91   0   0  90   7   0   0   0   0   0\n",
            "   0   0   0   0   0   0   0   0   0   0  83 254 143   0   0  63 235 224\n",
            "  37   0   0   0   0   0   0   0   0   0   0   0   0   0   0   0   0   0\n",
            "   0   0  38 254 238  71  11 204 205  17   0   0   0   0   0   0   0   0\n",
            "   0   0   0   0   0   0   0   0   0   0   0   0  31 238 254 237 194 254\n",
            " 155   0   0   0   0   0   0   0   0   0   0   0   0   0   0   0   0   0\n",
            "   0   0   0   0   0  71 237 254 254 178  16   0   0   0   0   0   0   0\n",
            "   0   0   0   0   0   0   0   0   0   0   0   0   0   0   0   0 174 254\n",
            " 254 203  41   0   0   0   0   0   0   0   0   0   0   0   0   0   0   0\n",
            "   0   0   0   0   0   0   0  34 235 254 254 254 149   0   0   0   0   0\n",
            "   0   0   0   0   0   0   0   0   0   0   0   0   0   0   0   0  12 167\n",
            " 254 201 198 254 238  75   0   0   0   0   0   0   0   0   0   0   0   0\n",
            "   0   0   0   0   0   0   0   0  78 254 214  15  12 205 254 239  35   0\n",
            "   0   0   0   0   0   0   0   0   0   0   0   0   0   0   0   0   0  27\n",
            " 239 254 162   0   0 193 254 254  43   0   0   0   0   0   0   0   0   0\n",
            "   0   0   0   0   0   0   0   0   0 138 254 238  51   0   0 193 254 225\n",
            "  27   0   0   0   0   0   0   0   0   0   0   0   0   0   0   0   0   0\n",
            "  10 194 254 101   0   0   0 193 254 125   0   0   0   0   0   0   0   0\n",
            "   0   0   0   0   0   0   0   0   0   0  25 254 220   9   0   0 109 249\n",
            " 186   5   0   0   0   0   0   0   0   0   0   0   0   0   0   0   0   0\n",
            "   0   0 141 254 217  20 113 201 250 254 125   0   0   0   0   0   0   0\n",
            "   0   0   0   0   0   0   0   0   0   0   0  18 250 254 253 245 254 254\n",
            " 254 131   3   0   0   0   0   0   0   0   0   0   0   0   0   0   0   0\n",
            "   0   0   0   1  91 255 255 255 255 166  39   2   0   0   0   0   0   0\n",
            "   0   0   0   0   0   0   0   0   0   0   0   0   0   0   0   0   0   0\n",
            "   0   0   0   0   0   0   0   0   0   0   0   0   0   0   0   0   0   0\n",
            "   0   0   0   0   0   0   0   0   0   0   0   0   0   0   0   0   0   0\n",
            "   0   0   0   0   0   0   0   0   0   0   0   0   0   0   0   0   0   0\n",
            "   0   0   0   0   0   0   0   0   0   0   0   0   0   0   0   0   0   0\n",
            "   0   0   0   0   0   0   0   0   0   0   0   0   0   0   0   0   0   0\n",
            "   0   0   0   0   0   0   0   0   0   0]\n"
          ]
        }
      ],
      "source": [
        "print(\"Elemento 125: \", x_train[125])\n",
        "print(\"\\n Elemento 125: \", x_train[125].reshape(784))"
      ]
    },
    {
      "cell_type": "markdown",
      "metadata": {
        "id": "eBhPHO9q3Fno"
      },
      "source": [
        "Vemos que cada pixel es un byte con rango de 0 a 255 (escala de grises 0 negro a 255 que es blanco) en formato entero. Esta escala no es adecuada para una ANN, así que habría que normalizar. Vamos a hacer una normalización en el rango -0.5 a 0.5. y convertir en reales."
      ]
    },
    {
      "cell_type": "code",
      "execution_count": 9,
      "metadata": {
        "id": "2FQWzLsp3k-x"
      },
      "outputs": [],
      "source": [
        "x_train = x_train.astype('float32')\n",
        "x_test = x_test.astype('float32')\n",
        "\n",
        "x_train /= 255 # Escalar a un rango entre 0 y 1\n",
        "x_test /= 255 # Escalar a un rango entre 0 y 1\n",
        "\n",
        "x_train -= 0.5 # Desplazar el rango a -0.5 y 0.5\n",
        "x_test -= 0.5"
      ]
    },
    {
      "cell_type": "code",
      "execution_count": 10,
      "metadata": {
        "colab": {
          "base_uri": "https://localhost:8080/"
        },
        "id": "bIZGycvd4tln",
        "outputId": "236db8c3-f95f-4080-f3ac-a192b94aefaf"
      },
      "outputs": [
        {
          "name": "stdout",
          "output_type": "stream",
          "text": [
            "Max value:  0.5\n",
            "Min value:  -0.5\n"
          ]
        }
      ],
      "source": [
        "print(\"Max value: \", max(x_train[125].reshape(784)))\n",
        "print(\"Min value: \", min(x_train[125].reshape(784)))"
      ]
    },
    {
      "cell_type": "code",
      "execution_count": 11,
      "metadata": {
        "id": "WctZAPgX5DXU"
      },
      "outputs": [],
      "source": [
        "x_train = x_train.reshape(60000 ,784)\n",
        "x_test = x_test.reshape(10000 ,784)"
      ]
    },
    {
      "cell_type": "code",
      "execution_count": 12,
      "metadata": {
        "colab": {
          "base_uri": "https://localhost:8080/"
        },
        "id": "R4eSFNvM5t0c",
        "outputId": "651648e0-a17b-4e2d-a838-a351b73441e8"
      },
      "outputs": [
        {
          "name": "stdout",
          "output_type": "stream",
          "text": [
            "Elemento 125:  [-0.5        -0.5        -0.5        -0.5        -0.5        -0.5\n",
            " -0.5        -0.5        -0.5        -0.5        -0.5        -0.5\n",
            " -0.5        -0.5        -0.5        -0.5        -0.5        -0.5\n",
            " -0.5        -0.5        -0.5        -0.5        -0.5        -0.5\n",
            " -0.5        -0.5        -0.5        -0.5        -0.5        -0.5\n",
            " -0.5        -0.5        -0.5        -0.5        -0.5        -0.5\n",
            " -0.5        -0.5        -0.5        -0.5        -0.5        -0.5\n",
            " -0.5        -0.5        -0.5        -0.5        -0.5        -0.5\n",
            " -0.5        -0.5        -0.5        -0.5        -0.5        -0.5\n",
            " -0.5        -0.5        -0.5        -0.5        -0.5        -0.5\n",
            " -0.5        -0.5        -0.5        -0.5        -0.5        -0.5\n",
            " -0.5        -0.5        -0.5        -0.5        -0.5        -0.5\n",
            " -0.5        -0.5        -0.5        -0.5        -0.5        -0.5\n",
            " -0.5        -0.5        -0.5        -0.5        -0.5        -0.5\n",
            " -0.5        -0.5        -0.5        -0.5        -0.5        -0.5\n",
            " -0.5        -0.5        -0.5        -0.5        -0.5        -0.5\n",
            " -0.5        -0.5        -0.5        -0.5        -0.5        -0.5\n",
            " -0.5        -0.5        -0.5        -0.5        -0.5        -0.5\n",
            " -0.5        -0.5        -0.5        -0.5        -0.5        -0.5\n",
            " -0.5        -0.5        -0.5        -0.5        -0.5        -0.5\n",
            " -0.5        -0.5        -0.5        -0.5        -0.5        -0.5\n",
            " -0.5        -0.5        -0.5        -0.5        -0.5        -0.29607844\n",
            "  0.44509804 -0.16274509 -0.5        -0.5        -0.5        -0.5\n",
            " -0.5        -0.5        -0.5        -0.5        -0.5        -0.5\n",
            " -0.5        -0.5        -0.5        -0.5        -0.5        -0.5\n",
            " -0.5        -0.5        -0.4882353  -0.4490196  -0.4490196  -0.07647058\n",
            "  0.03725493  0.03725493  0.03725493  0.43333334  0.49607843 -0.40588236\n",
            " -0.5        -0.5        -0.5        -0.5        -0.5        -0.5\n",
            " -0.5        -0.5        -0.5        -0.5        -0.5        -0.5\n",
            " -0.5        -0.5        -0.5        -0.5        -0.5        -0.5\n",
            " -0.02549019  0.49607843  0.49607843  0.49607843  0.49607843  0.49607843\n",
            "  0.49607843  0.49607843  0.49607843 -0.09607843 -0.49215686 -0.5\n",
            " -0.5        -0.5        -0.5        -0.5        -0.5        -0.5\n",
            " -0.5        -0.5        -0.5        -0.5        -0.5        -0.5\n",
            " -0.5        -0.5        -0.40980393  0.08431375  0.37058824  0.49607843\n",
            "  0.47254902  0.39803922  0.42941177  0.49607843  0.46470588  0.22156864\n",
            " -0.08823529  0.44509804 -0.42941177 -0.5        -0.5        -0.5\n",
            " -0.5        -0.5        -0.5        -0.5        -0.5        -0.5\n",
            " -0.5        -0.5        -0.5        -0.5        -0.5        -0.5\n",
            " -0.0490196   0.49607843  0.47254902  0.02549022 -0.20588234 -0.5\n",
            " -0.14313725  0.49607843 -0.14313725 -0.5        -0.5        -0.14705881\n",
            " -0.47254902 -0.5        -0.5        -0.5        -0.5        -0.5\n",
            " -0.5        -0.5        -0.5        -0.5        -0.5        -0.5\n",
            " -0.5        -0.5        -0.5        -0.5        -0.1745098   0.49607843\n",
            "  0.06078434 -0.5        -0.5        -0.2529412   0.42156863  0.37843138\n",
            " -0.35490197 -0.5        -0.5        -0.5        -0.5        -0.5\n",
            " -0.5        -0.5        -0.5        -0.5        -0.5        -0.5\n",
            " -0.5        -0.5        -0.5        -0.5        -0.5        -0.5\n",
            " -0.5        -0.5        -0.3509804   0.49607843  0.43333334 -0.22156861\n",
            " -0.45686275  0.3         0.30392158 -0.43333334 -0.5        -0.5\n",
            " -0.5        -0.5        -0.5        -0.5        -0.5        -0.5\n",
            " -0.5        -0.5        -0.5        -0.5        -0.5        -0.5\n",
            " -0.5        -0.5        -0.5        -0.5        -0.5        -0.5\n",
            " -0.37843138  0.43333334  0.49607843  0.42941177  0.26078433  0.49607843\n",
            "  0.10784316 -0.5        -0.5        -0.5        -0.5        -0.5\n",
            " -0.5        -0.5        -0.5        -0.5        -0.5        -0.5\n",
            " -0.5        -0.5        -0.5        -0.5        -0.5        -0.5\n",
            " -0.5        -0.5        -0.5        -0.5        -0.5        -0.22156861\n",
            "  0.42941177  0.49607843  0.49607843  0.19803923 -0.4372549  -0.5\n",
            " -0.5        -0.5        -0.5        -0.5        -0.5        -0.5\n",
            " -0.5        -0.5        -0.5        -0.5        -0.5        -0.5\n",
            " -0.5        -0.5        -0.5        -0.5        -0.5        -0.5\n",
            " -0.5        -0.5        -0.5        -0.5         0.18235296  0.49607843\n",
            "  0.49607843  0.29607844 -0.3392157  -0.5        -0.5        -0.5\n",
            " -0.5        -0.5        -0.5        -0.5        -0.5        -0.5\n",
            " -0.5        -0.5        -0.5        -0.5        -0.5        -0.5\n",
            " -0.5        -0.5        -0.5        -0.5        -0.5        -0.5\n",
            " -0.5        -0.36666667  0.42156863  0.49607843  0.49607843  0.49607843\n",
            "  0.08431375 -0.5        -0.5        -0.5        -0.5        -0.5\n",
            " -0.5        -0.5        -0.5        -0.5        -0.5        -0.5\n",
            " -0.5        -0.5        -0.5        -0.5        -0.5        -0.5\n",
            " -0.5        -0.5        -0.5        -0.5        -0.45294118  0.15490198\n",
            "  0.49607843  0.2882353   0.2764706   0.49607843  0.43333334 -0.20588234\n",
            " -0.5        -0.5        -0.5        -0.5        -0.5        -0.5\n",
            " -0.5        -0.5        -0.5        -0.5        -0.5        -0.5\n",
            " -0.5        -0.5        -0.5        -0.5        -0.5        -0.5\n",
            " -0.5        -0.5        -0.19411764  0.49607843  0.3392157  -0.44117647\n",
            " -0.45294118  0.30392158  0.49607843  0.4372549  -0.3627451  -0.5\n",
            " -0.5        -0.5        -0.5        -0.5        -0.5        -0.5\n",
            " -0.5        -0.5        -0.5        -0.5        -0.5        -0.5\n",
            " -0.5        -0.5        -0.5        -0.5        -0.5        -0.39411765\n",
            "  0.4372549   0.49607843  0.13529414 -0.5        -0.5         0.25686276\n",
            "  0.49607843  0.49607843 -0.33137256 -0.5        -0.5        -0.5\n",
            " -0.5        -0.5        -0.5        -0.5        -0.5        -0.5\n",
            " -0.5        -0.5        -0.5        -0.5        -0.5        -0.5\n",
            " -0.5        -0.5        -0.5         0.0411765   0.49607843  0.43333334\n",
            " -0.3        -0.5        -0.5         0.25686276  0.49607843  0.38235295\n",
            " -0.39411765 -0.5        -0.5        -0.5        -0.5        -0.5\n",
            " -0.5        -0.5        -0.5        -0.5        -0.5        -0.5\n",
            " -0.5        -0.5        -0.5        -0.5        -0.5        -0.5\n",
            " -0.46078432  0.26078433  0.49607843 -0.10392156 -0.5        -0.5\n",
            " -0.5         0.25686276  0.49607843 -0.00980392 -0.5        -0.5\n",
            " -0.5        -0.5        -0.5        -0.5        -0.5        -0.5\n",
            " -0.5        -0.5        -0.5        -0.5        -0.5        -0.5\n",
            " -0.5        -0.5        -0.5        -0.5        -0.4019608   0.49607843\n",
            "  0.3627451  -0.46470588 -0.5        -0.5        -0.07254902  0.4764706\n",
            "  0.22941178 -0.48039216 -0.5        -0.5        -0.5        -0.5\n",
            " -0.5        -0.5        -0.5        -0.5        -0.5        -0.5\n",
            " -0.5        -0.5        -0.5        -0.5        -0.5        -0.5\n",
            " -0.5        -0.5         0.0529412   0.49607843  0.3509804  -0.42156863\n",
            " -0.05686274  0.2882353   0.48039216  0.49607843 -0.00980392 -0.5\n",
            " -0.5        -0.5        -0.5        -0.5        -0.5        -0.5\n",
            " -0.5        -0.5        -0.5        -0.5        -0.5        -0.5\n",
            " -0.5        -0.5        -0.5        -0.5        -0.5        -0.42941177\n",
            "  0.48039216  0.49607843  0.49215686  0.46078432  0.49607843  0.49607843\n",
            "  0.49607843  0.01372552 -0.4882353  -0.5        -0.5        -0.5\n",
            " -0.5        -0.5        -0.5        -0.5        -0.5        -0.5\n",
            " -0.5        -0.5        -0.5        -0.5        -0.5        -0.5\n",
            " -0.5        -0.5        -0.5        -0.49607843 -0.14313725  0.5\n",
            "  0.5         0.5         0.5         0.15098041 -0.34705883 -0.49215686\n",
            " -0.5        -0.5        -0.5        -0.5        -0.5        -0.5\n",
            " -0.5        -0.5        -0.5        -0.5        -0.5        -0.5\n",
            " -0.5        -0.5        -0.5        -0.5        -0.5        -0.5\n",
            " -0.5        -0.5        -0.5        -0.5        -0.5        -0.5\n",
            " -0.5        -0.5        -0.5        -0.5        -0.5        -0.5\n",
            " -0.5        -0.5        -0.5        -0.5        -0.5        -0.5\n",
            " -0.5        -0.5        -0.5        -0.5        -0.5        -0.5\n",
            " -0.5        -0.5        -0.5        -0.5        -0.5        -0.5\n",
            " -0.5        -0.5        -0.5        -0.5        -0.5        -0.5\n",
            " -0.5        -0.5        -0.5        -0.5        -0.5        -0.5\n",
            " -0.5        -0.5        -0.5        -0.5        -0.5        -0.5\n",
            " -0.5        -0.5        -0.5        -0.5        -0.5        -0.5\n",
            " -0.5        -0.5        -0.5        -0.5        -0.5        -0.5\n",
            " -0.5        -0.5        -0.5        -0.5        -0.5        -0.5\n",
            " -0.5        -0.5        -0.5        -0.5        -0.5        -0.5\n",
            " -0.5        -0.5        -0.5        -0.5        -0.5        -0.5\n",
            " -0.5        -0.5        -0.5        -0.5        -0.5        -0.5\n",
            " -0.5        -0.5        -0.5        -0.5        -0.5        -0.5\n",
            " -0.5        -0.5        -0.5        -0.5        -0.5        -0.5\n",
            " -0.5        -0.5        -0.5        -0.5        -0.5        -0.5\n",
            " -0.5        -0.5        -0.5        -0.5       ]\n"
          ]
        }
      ],
      "source": [
        "print(\"Elemento 125: \", x_train[125])"
      ]
    },
    {
      "cell_type": "markdown",
      "metadata": {
        "id": "irdM_-hF6NVn"
      },
      "source": [
        "Ahora preparamos las etiquetas transformándolas a formate *on_hot*."
      ]
    },
    {
      "cell_type": "code",
      "execution_count": 13,
      "metadata": {
        "colab": {
          "base_uri": "https://localhost:8080/"
        },
        "id": "oq1dnoJS6YNe",
        "outputId": "034c83f9-5b07-42b8-8742-2291ef1d1de2"
      },
      "outputs": [
        {
          "name": "stdout",
          "output_type": "stream",
          "text": [
            "Label:  [0. 0. 0. 0. 0. 0. 0. 0. 1. 0.]\n"
          ]
        }
      ],
      "source": [
        "y_train = keras.utils.to_categorical(y_train, 10)\n",
        "y_test = keras.utils.to_categorical(y_test, 10)\n",
        "\n",
        "print(\"Label: \", y_train[125])"
      ]
    },
    {
      "cell_type": "markdown",
      "metadata": {
        "id": "E0hwN7de7OmF"
      },
      "source": [
        "# Peparación del modelo\n",
        "\n",
        "Problema de clasificación con 10 clases posibles. La capa de salida debe tener 10 neuronas. La capa de entrada, como son imágenes de 28x28, tendrá 784 neuronas.\n",
        "\n",
        "En la capa oculta no hay forma de saber a priori el número óptimo ni de capas ni de neuronas. Vamos a probar con una sola capa oculta de 20 neuronas.\n",
        "\n",
        "Como funciones de activación vamos a usar sigmoides en la capa intermedia. En la capa de salida vamos a usar softmax (probelma de clasificación).\n",
        "\n",
        "Se podría crear la red con el modelo Sequential, pero vamos a hacerlo con el modelo no secuencial, que es una API funcional de Keras."
      ]
    },
    {
      "cell_type": "code",
      "execution_count": 14,
      "metadata": {
        "id": "dVYTKECj8Vjy"
      },
      "outputs": [],
      "source": [
        "from keras.layers import Input, Dense\n",
        "from keras.models import Model\n",
        "\n",
        "inputs = Input(shape=(784,)) # Capa de entrada\n",
        "output_h = Dense(units=64, activation='sigmoid')(inputs) # Capa oculta conecta con la de entrada\n",
        "predictions = Dense(units=10, activation='softmax')(output_h) # Capa de salida\n",
        "\n",
        "model = Model(inputs=inputs, outputs=predictions)"
      ]
    },
    {
      "cell_type": "code",
      "execution_count": 15,
      "metadata": {
        "colab": {
          "base_uri": "https://localhost:8080/",
          "height": 225
        },
        "id": "kLawdbuWA3y3",
        "outputId": "abfc10f2-144c-48c2-ae66-1a33c2052f8a"
      },
      "outputs": [
        {
          "data": {
            "text/html": [
              "<pre style=\"white-space:pre;overflow-x:auto;line-height:normal;font-family:Menlo,'DejaVu Sans Mono',consolas,'Courier New',monospace\"><span style=\"font-weight: bold\">Model: \"functional\"</span>\n",
              "</pre>\n"
            ],
            "text/plain": [
              "\u001b[1mModel: \"functional\"\u001b[0m\n"
            ]
          },
          "metadata": {},
          "output_type": "display_data"
        },
        {
          "data": {
            "text/html": [
              "<pre style=\"white-space:pre;overflow-x:auto;line-height:normal;font-family:Menlo,'DejaVu Sans Mono',consolas,'Courier New',monospace\">┏━━━━━━━━━━━━━━━━━━━━━━━━━━━━━━━━━━━━━━┳━━━━━━━━━━━━━━━━━━━━━━━━━━━━━┳━━━━━━━━━━━━━━━━━┓\n",
              "┃<span style=\"font-weight: bold\"> Layer (type)                         </span>┃<span style=\"font-weight: bold\"> Output Shape                </span>┃<span style=\"font-weight: bold\">         Param # </span>┃\n",
              "┡━━━━━━━━━━━━━━━━━━━━━━━━━━━━━━━━━━━━━━╇━━━━━━━━━━━━━━━━━━━━━━━━━━━━━╇━━━━━━━━━━━━━━━━━┩\n",
              "│ input_layer (<span style=\"color: #0087ff; text-decoration-color: #0087ff\">InputLayer</span>)             │ (<span style=\"color: #00d7ff; text-decoration-color: #00d7ff\">None</span>, <span style=\"color: #00af00; text-decoration-color: #00af00\">784</span>)                 │               <span style=\"color: #00af00; text-decoration-color: #00af00\">0</span> │\n",
              "├──────────────────────────────────────┼─────────────────────────────┼─────────────────┤\n",
              "│ dense (<span style=\"color: #0087ff; text-decoration-color: #0087ff\">Dense</span>)                        │ (<span style=\"color: #00d7ff; text-decoration-color: #00d7ff\">None</span>, <span style=\"color: #00af00; text-decoration-color: #00af00\">64</span>)                  │          <span style=\"color: #00af00; text-decoration-color: #00af00\">50,240</span> │\n",
              "├──────────────────────────────────────┼─────────────────────────────┼─────────────────┤\n",
              "│ dense_1 (<span style=\"color: #0087ff; text-decoration-color: #0087ff\">Dense</span>)                      │ (<span style=\"color: #00d7ff; text-decoration-color: #00d7ff\">None</span>, <span style=\"color: #00af00; text-decoration-color: #00af00\">10</span>)                  │             <span style=\"color: #00af00; text-decoration-color: #00af00\">650</span> │\n",
              "└──────────────────────────────────────┴─────────────────────────────┴─────────────────┘\n",
              "</pre>\n"
            ],
            "text/plain": [
              "┏━━━━━━━━━━━━━━━━━━━━━━━━━━━━━━━━━━━━━━┳━━━━━━━━━━━━━━━━━━━━━━━━━━━━━┳━━━━━━━━━━━━━━━━━┓\n",
              "┃\u001b[1m \u001b[0m\u001b[1mLayer (type)                        \u001b[0m\u001b[1m \u001b[0m┃\u001b[1m \u001b[0m\u001b[1mOutput Shape               \u001b[0m\u001b[1m \u001b[0m┃\u001b[1m \u001b[0m\u001b[1m        Param #\u001b[0m\u001b[1m \u001b[0m┃\n",
              "┡━━━━━━━━━━━━━━━━━━━━━━━━━━━━━━━━━━━━━━╇━━━━━━━━━━━━━━━━━━━━━━━━━━━━━╇━━━━━━━━━━━━━━━━━┩\n",
              "│ input_layer (\u001b[38;5;33mInputLayer\u001b[0m)             │ (\u001b[38;5;45mNone\u001b[0m, \u001b[38;5;34m784\u001b[0m)                 │               \u001b[38;5;34m0\u001b[0m │\n",
              "├──────────────────────────────────────┼─────────────────────────────┼─────────────────┤\n",
              "│ dense (\u001b[38;5;33mDense\u001b[0m)                        │ (\u001b[38;5;45mNone\u001b[0m, \u001b[38;5;34m64\u001b[0m)                  │          \u001b[38;5;34m50,240\u001b[0m │\n",
              "├──────────────────────────────────────┼─────────────────────────────┼─────────────────┤\n",
              "│ dense_1 (\u001b[38;5;33mDense\u001b[0m)                      │ (\u001b[38;5;45mNone\u001b[0m, \u001b[38;5;34m10\u001b[0m)                  │             \u001b[38;5;34m650\u001b[0m │\n",
              "└──────────────────────────────────────┴─────────────────────────────┴─────────────────┘\n"
            ]
          },
          "metadata": {},
          "output_type": "display_data"
        },
        {
          "data": {
            "text/html": [
              "<pre style=\"white-space:pre;overflow-x:auto;line-height:normal;font-family:Menlo,'DejaVu Sans Mono',consolas,'Courier New',monospace\"><span style=\"font-weight: bold\"> Total params: </span><span style=\"color: #00af00; text-decoration-color: #00af00\">50,890</span> (198.79 KB)\n",
              "</pre>\n"
            ],
            "text/plain": [
              "\u001b[1m Total params: \u001b[0m\u001b[38;5;34m50,890\u001b[0m (198.79 KB)\n"
            ]
          },
          "metadata": {},
          "output_type": "display_data"
        },
        {
          "data": {
            "text/html": [
              "<pre style=\"white-space:pre;overflow-x:auto;line-height:normal;font-family:Menlo,'DejaVu Sans Mono',consolas,'Courier New',monospace\"><span style=\"font-weight: bold\"> Trainable params: </span><span style=\"color: #00af00; text-decoration-color: #00af00\">50,890</span> (198.79 KB)\n",
              "</pre>\n"
            ],
            "text/plain": [
              "\u001b[1m Trainable params: \u001b[0m\u001b[38;5;34m50,890\u001b[0m (198.79 KB)\n"
            ]
          },
          "metadata": {},
          "output_type": "display_data"
        },
        {
          "data": {
            "text/html": [
              "<pre style=\"white-space:pre;overflow-x:auto;line-height:normal;font-family:Menlo,'DejaVu Sans Mono',consolas,'Courier New',monospace\"><span style=\"font-weight: bold\"> Non-trainable params: </span><span style=\"color: #00af00; text-decoration-color: #00af00\">0</span> (0.00 B)\n",
              "</pre>\n"
            ],
            "text/plain": [
              "\u001b[1m Non-trainable params: \u001b[0m\u001b[38;5;34m0\u001b[0m (0.00 B)\n"
            ]
          },
          "metadata": {},
          "output_type": "display_data"
        }
      ],
      "source": [
        "model.summary()"
      ]
    },
    {
      "cell_type": "markdown",
      "metadata": {
        "id": "E2uPdVLaDJmj"
      },
      "source": [
        "# Entramiento"
      ]
    },
    {
      "cell_type": "code",
      "execution_count": 16,
      "metadata": {
        "id": "hloaW2r9DLhP"
      },
      "outputs": [],
      "source": [
        "model.compile(loss='categorical_crossentropy',\n",
        "              optimizer='adam',\n",
        "              metrics=['accuracy'])"
      ]
    },
    {
      "cell_type": "code",
      "execution_count": 17,
      "metadata": {
        "colab": {
          "base_uri": "https://localhost:8080/"
        },
        "id": "AlRbuk44DzRW",
        "outputId": "ce93e892-8c0a-426a-a10b-14593ddd1ac7"
      },
      "outputs": [
        {
          "name": "stdout",
          "output_type": "stream",
          "text": [
            "Epoch 1/40\n",
            "\u001b[1m1875/1875\u001b[0m \u001b[32m━━━━━━━━━━━━━━━━━━━━\u001b[0m\u001b[37m\u001b[0m \u001b[1m8s\u001b[0m 4ms/step - accuracy: 0.7934 - loss: 0.8022 - val_accuracy: 0.9257 - val_loss: 0.2710\n",
            "Epoch 2/40\n",
            "\u001b[1m1875/1875\u001b[0m \u001b[32m━━━━━━━━━━━━━━━━━━━━\u001b[0m\u001b[37m\u001b[0m \u001b[1m7s\u001b[0m 3ms/step - accuracy: 0.9226 - loss: 0.2646 - val_accuracy: 0.9346 - val_loss: 0.2221\n",
            "Epoch 3/40\n",
            "\u001b[1m1875/1875\u001b[0m \u001b[32m━━━━━━━━━━━━━━━━━━━━\u001b[0m\u001b[37m\u001b[0m \u001b[1m6s\u001b[0m 3ms/step - accuracy: 0.9413 - loss: 0.2042 - val_accuracy: 0.9476 - val_loss: 0.1829\n",
            "Epoch 4/40\n",
            "\u001b[1m1875/1875\u001b[0m \u001b[32m━━━━━━━━━━━━━━━━━━━━\u001b[0m\u001b[37m\u001b[0m \u001b[1m9s\u001b[0m 3ms/step - accuracy: 0.9484 - loss: 0.1745 - val_accuracy: 0.9538 - val_loss: 0.1585\n",
            "Epoch 5/40\n",
            "\u001b[1m1875/1875\u001b[0m \u001b[32m━━━━━━━━━━━━━━━━━━━━\u001b[0m\u001b[37m\u001b[0m \u001b[1m6s\u001b[0m 3ms/step - accuracy: 0.9578 - loss: 0.1457 - val_accuracy: 0.9570 - val_loss: 0.1457\n",
            "Epoch 6/40\n",
            "\u001b[1m1875/1875\u001b[0m \u001b[32m━━━━━━━━━━━━━━━━━━━━\u001b[0m\u001b[37m\u001b[0m \u001b[1m5s\u001b[0m 3ms/step - accuracy: 0.9620 - loss: 0.1336 - val_accuracy: 0.9625 - val_loss: 0.1290\n",
            "Epoch 7/40\n",
            "\u001b[1m1875/1875\u001b[0m \u001b[32m━━━━━━━━━━━━━━━━━━━━\u001b[0m\u001b[37m\u001b[0m \u001b[1m5s\u001b[0m 3ms/step - accuracy: 0.9676 - loss: 0.1162 - val_accuracy: 0.9644 - val_loss: 0.1190\n",
            "Epoch 8/40\n",
            "\u001b[1m1875/1875\u001b[0m \u001b[32m━━━━━━━━━━━━━━━━━━━━\u001b[0m\u001b[37m\u001b[0m \u001b[1m6s\u001b[0m 3ms/step - accuracy: 0.9717 - loss: 0.1029 - val_accuracy: 0.9644 - val_loss: 0.1177\n",
            "Epoch 9/40\n",
            "\u001b[1m1875/1875\u001b[0m \u001b[32m━━━━━━━━━━━━━━━━━━━━\u001b[0m\u001b[37m\u001b[0m \u001b[1m5s\u001b[0m 3ms/step - accuracy: 0.9739 - loss: 0.0934 - val_accuracy: 0.9655 - val_loss: 0.1170\n",
            "Epoch 10/40\n",
            "\u001b[1m1875/1875\u001b[0m \u001b[32m━━━━━━━━━━━━━━━━━━━━\u001b[0m\u001b[37m\u001b[0m \u001b[1m6s\u001b[0m 3ms/step - accuracy: 0.9759 - loss: 0.0853 - val_accuracy: 0.9667 - val_loss: 0.1117\n",
            "Epoch 11/40\n",
            "\u001b[1m1875/1875\u001b[0m \u001b[32m━━━━━━━━━━━━━━━━━━━━\u001b[0m\u001b[37m\u001b[0m \u001b[1m5s\u001b[0m 3ms/step - accuracy: 0.9780 - loss: 0.0775 - val_accuracy: 0.9664 - val_loss: 0.1111\n",
            "Epoch 12/40\n",
            "\u001b[1m1875/1875\u001b[0m \u001b[32m━━━━━━━━━━━━━━━━━━━━\u001b[0m\u001b[37m\u001b[0m \u001b[1m5s\u001b[0m 3ms/step - accuracy: 0.9803 - loss: 0.0705 - val_accuracy: 0.9681 - val_loss: 0.1021\n",
            "Epoch 13/40\n",
            "\u001b[1m1875/1875\u001b[0m \u001b[32m━━━━━━━━━━━━━━━━━━━━\u001b[0m\u001b[37m\u001b[0m \u001b[1m6s\u001b[0m 3ms/step - accuracy: 0.9818 - loss: 0.0660 - val_accuracy: 0.9704 - val_loss: 0.1008\n",
            "Epoch 14/40\n",
            "\u001b[1m1875/1875\u001b[0m \u001b[32m━━━━━━━━━━━━━━━━━━━━\u001b[0m\u001b[37m\u001b[0m \u001b[1m5s\u001b[0m 3ms/step - accuracy: 0.9832 - loss: 0.0618 - val_accuracy: 0.9695 - val_loss: 0.0990\n",
            "Epoch 15/40\n",
            "\u001b[1m1875/1875\u001b[0m \u001b[32m━━━━━━━━━━━━━━━━━━━━\u001b[0m\u001b[37m\u001b[0m \u001b[1m6s\u001b[0m 3ms/step - accuracy: 0.9836 - loss: 0.0593 - val_accuracy: 0.9674 - val_loss: 0.1054\n",
            "Epoch 16/40\n",
            "\u001b[1m1875/1875\u001b[0m \u001b[32m━━━━━━━━━━━━━━━━━━━━\u001b[0m\u001b[37m\u001b[0m \u001b[1m10s\u001b[0m 3ms/step - accuracy: 0.9840 - loss: 0.0565 - val_accuracy: 0.9685 - val_loss: 0.1059\n",
            "Epoch 17/40\n",
            "\u001b[1m1875/1875\u001b[0m \u001b[32m━━━━━━━━━━━━━━━━━━━━\u001b[0m\u001b[37m\u001b[0m \u001b[1m6s\u001b[0m 3ms/step - accuracy: 0.9864 - loss: 0.0501 - val_accuracy: 0.9718 - val_loss: 0.0979\n",
            "Epoch 18/40\n",
            "\u001b[1m1875/1875\u001b[0m \u001b[32m━━━━━━━━━━━━━━━━━━━━\u001b[0m\u001b[37m\u001b[0m \u001b[1m5s\u001b[0m 3ms/step - accuracy: 0.9870 - loss: 0.0483 - val_accuracy: 0.9700 - val_loss: 0.0993\n",
            "Epoch 19/40\n",
            "\u001b[1m1875/1875\u001b[0m \u001b[32m━━━━━━━━━━━━━━━━━━━━\u001b[0m\u001b[37m\u001b[0m \u001b[1m5s\u001b[0m 3ms/step - accuracy: 0.9884 - loss: 0.0453 - val_accuracy: 0.9681 - val_loss: 0.1000\n",
            "Epoch 20/40\n",
            "\u001b[1m1875/1875\u001b[0m \u001b[32m━━━━━━━━━━━━━━━━━━━━\u001b[0m\u001b[37m\u001b[0m \u001b[1m6s\u001b[0m 3ms/step - accuracy: 0.9896 - loss: 0.0413 - val_accuracy: 0.9706 - val_loss: 0.0944\n",
            "Epoch 21/40\n",
            "\u001b[1m1875/1875\u001b[0m \u001b[32m━━━━━━━━━━━━━━━━━━━━\u001b[0m\u001b[37m\u001b[0m \u001b[1m5s\u001b[0m 3ms/step - accuracy: 0.9893 - loss: 0.0401 - val_accuracy: 0.9692 - val_loss: 0.0979\n",
            "Epoch 22/40\n",
            "\u001b[1m1875/1875\u001b[0m \u001b[32m━━━━━━━━━━━━━━━━━━━━\u001b[0m\u001b[37m\u001b[0m \u001b[1m7s\u001b[0m 3ms/step - accuracy: 0.9890 - loss: 0.0399 - val_accuracy: 0.9708 - val_loss: 0.0930\n",
            "Epoch 23/40\n",
            "\u001b[1m1875/1875\u001b[0m \u001b[32m━━━━━━━━━━━━━━━━━━━━\u001b[0m\u001b[37m\u001b[0m \u001b[1m9s\u001b[0m 3ms/step - accuracy: 0.9896 - loss: 0.0375 - val_accuracy: 0.9701 - val_loss: 0.0941\n",
            "Epoch 24/40\n",
            "\u001b[1m1875/1875\u001b[0m \u001b[32m━━━━━━━━━━━━━━━━━━━━\u001b[0m\u001b[37m\u001b[0m \u001b[1m7s\u001b[0m 4ms/step - accuracy: 0.9918 - loss: 0.0335 - val_accuracy: 0.9686 - val_loss: 0.0993\n",
            "Epoch 25/40\n",
            "\u001b[1m1875/1875\u001b[0m \u001b[32m━━━━━━━━━━━━━━━━━━━━\u001b[0m\u001b[37m\u001b[0m \u001b[1m5s\u001b[0m 3ms/step - accuracy: 0.9924 - loss: 0.0308 - val_accuracy: 0.9704 - val_loss: 0.0993\n",
            "Epoch 26/40\n",
            "\u001b[1m1875/1875\u001b[0m \u001b[32m━━━━━━━━━━━━━━━━━━━━\u001b[0m\u001b[37m\u001b[0m \u001b[1m6s\u001b[0m 3ms/step - accuracy: 0.9929 - loss: 0.0290 - val_accuracy: 0.9692 - val_loss: 0.1035\n",
            "Epoch 27/40\n",
            "\u001b[1m1875/1875\u001b[0m \u001b[32m━━━━━━━━━━━━━━━━━━━━\u001b[0m\u001b[37m\u001b[0m \u001b[1m10s\u001b[0m 3ms/step - accuracy: 0.9925 - loss: 0.0293 - val_accuracy: 0.9701 - val_loss: 0.1022\n",
            "Epoch 28/40\n",
            "\u001b[1m1875/1875\u001b[0m \u001b[32m━━━━━━━━━━━━━━━━━━━━\u001b[0m\u001b[37m\u001b[0m \u001b[1m7s\u001b[0m 4ms/step - accuracy: 0.9923 - loss: 0.0287 - val_accuracy: 0.9708 - val_loss: 0.0977\n",
            "Epoch 29/40\n",
            "\u001b[1m1875/1875\u001b[0m \u001b[32m━━━━━━━━━━━━━━━━━━━━\u001b[0m\u001b[37m\u001b[0m \u001b[1m9s\u001b[0m 3ms/step - accuracy: 0.9928 - loss: 0.0270 - val_accuracy: 0.9682 - val_loss: 0.1101\n",
            "Epoch 30/40\n",
            "\u001b[1m1875/1875\u001b[0m \u001b[32m━━━━━━━━━━━━━━━━━━━━\u001b[0m\u001b[37m\u001b[0m \u001b[1m10s\u001b[0m 3ms/step - accuracy: 0.9934 - loss: 0.0256 - val_accuracy: 0.9703 - val_loss: 0.1012\n",
            "Epoch 31/40\n",
            "\u001b[1m1875/1875\u001b[0m \u001b[32m━━━━━━━━━━━━━━━━━━━━\u001b[0m\u001b[37m\u001b[0m \u001b[1m6s\u001b[0m 3ms/step - accuracy: 0.9942 - loss: 0.0241 - val_accuracy: 0.9701 - val_loss: 0.1025\n",
            "Epoch 32/40\n",
            "\u001b[1m1875/1875\u001b[0m \u001b[32m━━━━━━━━━━━━━━━━━━━━\u001b[0m\u001b[37m\u001b[0m \u001b[1m5s\u001b[0m 3ms/step - accuracy: 0.9953 - loss: 0.0214 - val_accuracy: 0.9691 - val_loss: 0.1041\n",
            "Epoch 33/40\n",
            "\u001b[1m1875/1875\u001b[0m \u001b[32m━━━━━━━━━━━━━━━━━━━━\u001b[0m\u001b[37m\u001b[0m \u001b[1m5s\u001b[0m 3ms/step - accuracy: 0.9949 - loss: 0.0214 - val_accuracy: 0.9700 - val_loss: 0.1056\n",
            "Epoch 34/40\n",
            "\u001b[1m1875/1875\u001b[0m \u001b[32m━━━━━━━━━━━━━━━━━━━━\u001b[0m\u001b[37m\u001b[0m \u001b[1m6s\u001b[0m 3ms/step - accuracy: 0.9948 - loss: 0.0200 - val_accuracy: 0.9658 - val_loss: 0.1228\n",
            "Epoch 35/40\n",
            "\u001b[1m1875/1875\u001b[0m \u001b[32m━━━━━━━━━━━━━━━━━━━━\u001b[0m\u001b[37m\u001b[0m \u001b[1m5s\u001b[0m 3ms/step - accuracy: 0.9955 - loss: 0.0208 - val_accuracy: 0.9724 - val_loss: 0.0995\n",
            "Epoch 36/40\n",
            "\u001b[1m1875/1875\u001b[0m \u001b[32m━━━━━━━━━━━━━━━━━━━━\u001b[0m\u001b[37m\u001b[0m \u001b[1m6s\u001b[0m 3ms/step - accuracy: 0.9960 - loss: 0.0181 - val_accuracy: 0.9681 - val_loss: 0.1117\n",
            "Epoch 37/40\n",
            "\u001b[1m1875/1875\u001b[0m \u001b[32m━━━━━━━━━━━━━━━━━━━━\u001b[0m\u001b[37m\u001b[0m \u001b[1m9s\u001b[0m 3ms/step - accuracy: 0.9959 - loss: 0.0173 - val_accuracy: 0.9703 - val_loss: 0.1011\n",
            "Epoch 38/40\n",
            "\u001b[1m1875/1875\u001b[0m \u001b[32m━━━━━━━━━━━━━━━━━━━━\u001b[0m\u001b[37m\u001b[0m \u001b[1m6s\u001b[0m 3ms/step - accuracy: 0.9966 - loss: 0.0155 - val_accuracy: 0.9710 - val_loss: 0.1086\n",
            "Epoch 39/40\n",
            "\u001b[1m1875/1875\u001b[0m \u001b[32m━━━━━━━━━━━━━━━━━━━━\u001b[0m\u001b[37m\u001b[0m \u001b[1m9s\u001b[0m 3ms/step - accuracy: 0.9957 - loss: 0.0175 - val_accuracy: 0.9704 - val_loss: 0.1106\n",
            "Epoch 40/40\n",
            "\u001b[1m1875/1875\u001b[0m \u001b[32m━━━━━━━━━━━━━━━━━━━━\u001b[0m\u001b[37m\u001b[0m \u001b[1m6s\u001b[0m 3ms/step - accuracy: 0.9968 - loss: 0.0149 - val_accuracy: 0.9708 - val_loss: 0.1098\n"
          ]
        }
      ],
      "source": [
        "history = model.fit(x_train, y_train,batch_size=32, epochs=40, verbose=1, validation_data=(x_test, y_test))"
      ]
    },
    {
      "cell_type": "markdown",
      "metadata": {
        "id": "eXtmf68JGwqE"
      },
      "source": [
        "# Visualización"
      ]
    },
    {
      "cell_type": "code",
      "execution_count": 18,
      "metadata": {
        "colab": {
          "base_uri": "https://localhost:8080/",
          "height": 472
        },
        "id": "_MR0tS3eG0dE",
        "outputId": "e4fe0bf6-d15d-4571-9e76-04596d70a46e"
      },
      "outputs": [
        {
          "data": {
            "image/png": "[encoded data removed]",
            "text/plain": [
              "<Figure size 640x480 with 1 Axes>"
            ]
          },
          "metadata": {},
          "output_type": "display_data"
        }
      ],
      "source": [
        "from matplotlib import pyplot as plt\n",
        "\n",
        "plt.plot(history.history['accuracy'], label='accuracy')\n",
        "plt.plot(history.history['val_accuracy'], label='validation_accuracy')\n",
        "\n",
        "plt.title('Entrenamiento MNIST')\n",
        "plt.xlabel('Epoch')\n",
        "plt.legend(loc=\"lower right\")\n",
        "plt.show()"
      ]
    },
    {
      "cell_type": "markdown",
      "metadata": {
        "id": "UPlPvDC9IXqN"
      },
      "source": [
        "# Producción"
      ]
    },
    {
      "cell_type": "code",
      "execution_count": 19,
      "metadata": {
        "id": "SyP_OukJIa08"
      },
      "outputs": [],
      "source": [
        "import numpy as np"
      ]
    },
    {
      "cell_type": "code",
      "execution_count": 20,
      "metadata": {
        "colab": {
          "base_uri": "https://localhost:8080/"
        },
        "id": "uUR8NoDYIdyS",
        "outputId": "3f1ee27e-5899-4c9d-a82d-6aee06a0a8ca"
      },
      "outputs": [
        {
          "name": "stdout",
          "output_type": "stream",
          "text": [
            "\u001b[1m313/313\u001b[0m \u001b[32m━━━━━━━━━━━━━━━━━━━━\u001b[0m\u001b[37m\u001b[0m \u001b[1m1s\u001b[0m 3ms/step\n",
            "Desired output: [0. 0. 1. 0. 0. 0. 0. 0. 0. 0.]\n",
            "Predicted output: [0. 0. 1. 0. 0. 0. 0. 0. 0. 0.]\n"
          ]
        }
      ],
      "source": [
        "predictions = np.round(model.predict(x_test), 2)\n",
        "print(f\"Desired output: {y_test[1]}\")\n",
        "print(f\"Predicted output: {predictions[1]}\")"
      ]
    },
    {
      "cell_type": "code",
      "execution_count": 21,
      "metadata": {
        "colab": {
          "base_uri": "https://localhost:8080/"
        },
        "id": "sd3km2qsJEQi",
        "outputId": "b7d0f575-4c4f-4876-d2d2-280ea11f9aa3"
      },
      "outputs": [
        {
          "name": "stdout",
          "output_type": "stream",
          "text": [
            "[0. 0. 0. 0. 0. 0. 0. 1. 0. 0.] -> [0. 0. 0. 0. 0. 0. 0. 1. 0. 0.]\n",
            "[0. 0. 1. 0. 0. 0. 0. 0. 0. 0.] -> [0. 0. 1. 0. 0. 0. 0. 0. 0. 0.]\n",
            "[0. 1. 0. 0. 0. 0. 0. 0. 0. 0.] -> [0. 1. 0. 0. 0. 0. 0. 0. 0. 0.]\n",
            "[1. 0. 0. 0. 0. 0. 0. 0. 0. 0.] -> [1. 0. 0. 0. 0. 0. 0. 0. 0. 0.]\n",
            "[0. 0. 0. 0. 1. 0. 0. 0. 0. 0.] -> [0. 0. 0. 0. 1. 0. 0. 0. 0. 0.]\n",
            "[0. 1. 0. 0. 0. 0. 0. 0. 0. 0.] -> [0. 1. 0. 0. 0. 0. 0. 0. 0. 0.]\n",
            "[0. 0. 0. 0. 1. 0. 0. 0. 0. 0.] -> [0. 0. 0. 0. 1. 0. 0. 0. 0. 0.]\n",
            "[0. 0. 0. 0. 0. 0. 0. 0. 0. 1.] -> [0. 0. 0. 0. 0. 0. 0. 0. 0. 1.]\n",
            "[0.08 0.   0.   0.   0.   0.2  0.7  0.   0.01 0.  ] -> [0. 0. 0. 0. 0. 1. 0. 0. 0. 0.] X\n",
            "[0. 0. 0. 0. 0. 0. 0. 0. 0. 1.] -> [0. 0. 0. 0. 0. 0. 0. 0. 0. 1.]\n",
            "[1. 0. 0. 0. 0. 0. 0. 0. 0. 0.] -> [1. 0. 0. 0. 0. 0. 0. 0. 0. 0.]\n",
            "[0. 0. 0. 0. 0. 0. 1. 0. 0. 0.] -> [0. 0. 0. 0. 0. 0. 1. 0. 0. 0.]\n",
            "[0. 0. 0. 0. 0. 0. 0. 0. 0. 1.] -> [0. 0. 0. 0. 0. 0. 0. 0. 0. 1.]\n",
            "[1. 0. 0. 0. 0. 0. 0. 0. 0. 0.] -> [1. 0. 0. 0. 0. 0. 0. 0. 0. 0.]\n",
            "[0. 1. 0. 0. 0. 0. 0. 0. 0. 0.] -> [0. 1. 0. 0. 0. 0. 0. 0. 0. 0.]\n",
            "[0. 0. 0. 0. 0. 1. 0. 0. 0. 0.] -> [0. 0. 0. 0. 0. 1. 0. 0. 0. 0.]\n",
            "[0. 0. 0. 0. 0. 0. 0. 0. 0. 1.] -> [0. 0. 0. 0. 0. 0. 0. 0. 0. 1.]\n",
            "[0. 0. 0. 0. 0. 0. 0. 1. 0. 0.] -> [0. 0. 0. 0. 0. 0. 0. 1. 0. 0.]\n",
            "[0.   0.   0.   0.91 0.   0.   0.   0.   0.09 0.  ] -> [0. 0. 0. 1. 0. 0. 0. 0. 0. 0.]\n",
            "[0. 0. 0. 0. 1. 0. 0. 0. 0. 0.] -> [0. 0. 0. 0. 1. 0. 0. 0. 0. 0.]\n",
            "[0. 0. 0. 0. 0. 0. 0. 0. 0. 1.] -> [0. 0. 0. 0. 0. 0. 0. 0. 0. 1.]\n",
            "[0. 0. 0. 0. 0. 0. 1. 0. 0. 0.] -> [0. 0. 0. 0. 0. 0. 1. 0. 0. 0.]\n",
            "[0. 0. 0. 0. 0. 0. 1. 0. 0. 0.] -> [0. 0. 0. 0. 0. 0. 1. 0. 0. 0.]\n",
            "[0. 0. 0. 0. 0. 1. 0. 0. 0. 0.] -> [0. 0. 0. 0. 0. 1. 0. 0. 0. 0.]\n",
            "[0. 0. 0. 0. 1. 0. 0. 0. 0. 0.] -> [0. 0. 0. 0. 1. 0. 0. 0. 0. 0.]\n",
            "[1. 0. 0. 0. 0. 0. 0. 0. 0. 0.] -> [1. 0. 0. 0. 0. 0. 0. 0. 0. 0.]\n",
            "[0. 0. 0. 0. 0. 0. 0. 1. 0. 0.] -> [0. 0. 0. 0. 0. 0. 0. 1. 0. 0.]\n",
            "[0. 0. 0. 0. 1. 0. 0. 0. 0. 0.] -> [0. 0. 0. 0. 1. 0. 0. 0. 0. 0.]\n",
            "[1. 0. 0. 0. 0. 0. 0. 0. 0. 0.] -> [1. 0. 0. 0. 0. 0. 0. 0. 0. 0.]\n",
            "[0. 1. 0. 0. 0. 0. 0. 0. 0. 0.] -> [0. 1. 0. 0. 0. 0. 0. 0. 0. 0.]\n",
            "[0. 0. 0. 1. 0. 0. 0. 0. 0. 0.] -> [0. 0. 0. 1. 0. 0. 0. 0. 0. 0.]\n",
            "[0. 1. 0. 0. 0. 0. 0. 0. 0. 0.] -> [0. 1. 0. 0. 0. 0. 0. 0. 0. 0.]\n",
            "[0. 0. 0. 1. 0. 0. 0. 0. 0. 0.] -> [0. 0. 0. 1. 0. 0. 0. 0. 0. 0.]\n",
            "[0.03 0.   0.   0.   0.97 0.   0.   0.   0.   0.  ] -> [0. 0. 0. 0. 1. 0. 0. 0. 0. 0.]\n",
            "[0. 0. 0. 0. 0. 0. 0. 1. 0. 0.] -> [0. 0. 0. 0. 0. 0. 0. 1. 0. 0.]\n",
            "[0. 0. 1. 0. 0. 0. 0. 0. 0. 0.] -> [0. 0. 1. 0. 0. 0. 0. 0. 0. 0.]\n",
            "[0. 0. 0. 0. 0. 0. 0. 1. 0. 0.] -> [0. 0. 0. 0. 0. 0. 0. 1. 0. 0.]\n",
            "[0. 1. 0. 0. 0. 0. 0. 0. 0. 0.] -> [0. 1. 0. 0. 0. 0. 0. 0. 0. 0.]\n",
            "[0.   0.   0.63 0.36 0.   0.   0.   0.   0.   0.  ] -> [0. 0. 1. 0. 0. 0. 0. 0. 0. 0.]\n",
            "[0. 1. 0. 0. 0. 0. 0. 0. 0. 0.] -> [0. 1. 0. 0. 0. 0. 0. 0. 0. 0.]\n",
            "[0. 1. 0. 0. 0. 0. 0. 0. 0. 0.] -> [0. 1. 0. 0. 0. 0. 0. 0. 0. 0.]\n",
            "[0. 0. 0. 0. 0. 0. 0. 1. 0. 0.] -> [0. 0. 0. 0. 0. 0. 0. 1. 0. 0.]\n",
            "[0. 0. 0. 0. 1. 0. 0. 0. 0. 0.] -> [0. 0. 0. 0. 1. 0. 0. 0. 0. 0.]\n",
            "[0. 0. 1. 0. 0. 0. 0. 0. 0. 0.] -> [0. 0. 1. 0. 0. 0. 0. 0. 0. 0.]\n",
            "[0.   0.   0.   0.99 0.   0.01 0.   0.   0.   0.  ] -> [0. 0. 0. 1. 0. 0. 0. 0. 0. 0.]\n",
            "[0. 0. 0. 0. 0. 1. 0. 0. 0. 0.] -> [0. 0. 0. 0. 0. 1. 0. 0. 0. 0.]\n",
            "[0. 1. 0. 0. 0. 0. 0. 0. 0. 0.] -> [0. 1. 0. 0. 0. 0. 0. 0. 0. 0.]\n",
            "[0. 0. 1. 0. 0. 0. 0. 0. 0. 0.] -> [0. 0. 1. 0. 0. 0. 0. 0. 0. 0.]\n",
            "[0. 0. 0. 0. 1. 0. 0. 0. 0. 0.] -> [0. 0. 0. 0. 1. 0. 0. 0. 0. 0.]\n",
            "[0. 0. 0. 0. 1. 0. 0. 0. 0. 0.] -> [0. 0. 0. 0. 1. 0. 0. 0. 0. 0.]\n",
            "[0. 0. 0. 0. 0. 0. 1. 0. 0. 0.] -> [0. 0. 0. 0. 0. 0. 1. 0. 0. 0.]\n",
            "[0. 0. 0. 1. 0. 0. 0. 0. 0. 0.] -> [0. 0. 0. 1. 0. 0. 0. 0. 0. 0.]\n",
            "[0. 0. 0. 0. 0. 1. 0. 0. 0. 0.] -> [0. 0. 0. 0. 0. 1. 0. 0. 0. 0.]\n",
            "[0. 0. 0. 0. 0. 1. 0. 0. 0. 0.] -> [0. 0. 0. 0. 0. 1. 0. 0. 0. 0.]\n",
            "[0. 0. 0. 0. 0. 0. 1. 0. 0. 0.] -> [0. 0. 0. 0. 0. 0. 1. 0. 0. 0.]\n",
            "[1. 0. 0. 0. 0. 0. 0. 0. 0. 0.] -> [1. 0. 0. 0. 0. 0. 0. 0. 0. 0.]\n",
            "[0. 0. 0. 0. 1. 0. 0. 0. 0. 0.] -> [0. 0. 0. 0. 1. 0. 0. 0. 0. 0.]\n",
            "[0. 1. 0. 0. 0. 0. 0. 0. 0. 0.] -> [0. 1. 0. 0. 0. 0. 0. 0. 0. 0.]\n",
            "[0. 0. 0. 0. 0. 0. 0. 0. 0. 1.] -> [0. 0. 0. 0. 0. 0. 0. 0. 0. 1.]\n",
            "[0. 0. 0. 0. 0. 1. 0. 0. 0. 0.] -> [0. 0. 0. 0. 0. 1. 0. 0. 0. 0.]\n",
            "[0. 0. 0. 0. 0. 0. 0. 1. 0. 0.] -> [0. 0. 0. 0. 0. 0. 0. 1. 0. 0.]\n",
            "[0.   0.   0.02 0.   0.   0.   0.   0.   0.98 0.  ] -> [0. 0. 0. 0. 0. 0. 0. 0. 1. 0.]\n",
            "[0. 0. 0. 0. 0. 0. 0. 0. 0. 1.] -> [0. 0. 0. 0. 0. 0. 0. 0. 0. 1.]\n",
            "[0.   0.   0.07 0.9  0.   0.   0.   0.   0.02 0.01] -> [0. 0. 0. 1. 0. 0. 0. 0. 0. 0.]\n",
            "[0. 0. 0. 0. 0. 0. 0. 1. 0. 0.] -> [0. 0. 0. 0. 0. 0. 0. 1. 0. 0.]\n",
            "[0.   0.   0.   0.01 0.34 0.01 0.   0.   0.   0.65] -> [0. 0. 0. 0. 1. 0. 0. 0. 0. 0.] X\n",
            "[0.   0.   0.06 0.08 0.01 0.   0.79 0.   0.01 0.05] -> [0. 0. 0. 0. 0. 0. 1. 0. 0. 0.]\n",
            "[0. 0. 0. 0. 1. 0. 0. 0. 0. 0.] -> [0. 0. 0. 0. 1. 0. 0. 0. 0. 0.]\n",
            "[0. 0. 0. 1. 0. 0. 0. 0. 0. 0.] -> [0. 0. 0. 1. 0. 0. 0. 0. 0. 0.]\n",
            "[1. 0. 0. 0. 0. 0. 0. 0. 0. 0.] -> [1. 0. 0. 0. 0. 0. 0. 0. 0. 0.]\n",
            "[0. 0. 0. 0. 0. 0. 0. 1. 0. 0.] -> [0. 0. 0. 0. 0. 0. 0. 1. 0. 0.]\n",
            "[1. 0. 0. 0. 0. 0. 0. 0. 0. 0.] -> [1. 0. 0. 0. 0. 0. 0. 0. 0. 0.]\n",
            "[0.   0.   0.85 0.15 0.   0.   0.   0.   0.   0.  ] -> [0. 0. 1. 0. 0. 0. 0. 0. 0. 0.]\n",
            "[0. 0. 0. 0. 0. 0. 0. 0. 0. 1.] -> [0. 0. 0. 0. 0. 0. 0. 0. 0. 1.]\n",
            "[0. 1. 0. 0. 0. 0. 0. 0. 0. 0.] -> [0. 1. 0. 0. 0. 0. 0. 0. 0. 0.]\n",
            "[0. 0. 0. 0. 0. 0. 0. 1. 0. 0.] -> [0. 0. 0. 0. 0. 0. 0. 1. 0. 0.]\n",
            "[0. 0. 0. 1. 0. 0. 0. 0. 0. 0.] -> [0. 0. 0. 1. 0. 0. 0. 0. 0. 0.]\n",
            "[0. 0. 1. 0. 0. 0. 0. 0. 0. 0.] -> [0. 0. 1. 0. 0. 0. 0. 0. 0. 0.]\n",
            "[0.   0.   0.   0.   0.24 0.   0.   0.   0.   0.76] -> [0. 0. 0. 0. 0. 0. 0. 0. 0. 1.]\n",
            "[0. 0. 0. 0. 0. 0. 0. 1. 0. 0.] -> [0. 0. 0. 0. 0. 0. 0. 1. 0. 0.]\n",
            "[0. 0. 0. 0. 0. 0. 0. 1. 0. 0.] -> [0. 0. 0. 0. 0. 0. 0. 1. 0. 0.]\n",
            "[0. 0. 0. 0. 0. 0. 1. 0. 0. 0.] -> [0. 0. 0. 0. 0. 0. 1. 0. 0. 0.]\n",
            "[0. 0. 1. 0. 0. 0. 0. 0. 0. 0.] -> [0. 0. 1. 0. 0. 0. 0. 0. 0. 0.]\n",
            "[0. 0. 0. 0. 0. 0. 0. 1. 0. 0.] -> [0. 0. 0. 0. 0. 0. 0. 1. 0. 0.]\n",
            "[0. 0. 0. 0. 0. 0. 0. 0. 1. 0.] -> [0. 0. 0. 0. 0. 0. 0. 0. 1. 0.]\n",
            "[0. 0. 0. 0. 1. 0. 0. 0. 0. 0.] -> [0. 0. 0. 0. 1. 0. 0. 0. 0. 0.]\n",
            "[0. 0. 0. 0. 0. 0. 0. 1. 0. 0.] -> [0. 0. 0. 0. 0. 0. 0. 1. 0. 0.]\n",
            "[0. 0. 0. 1. 0. 0. 0. 0. 0. 0.] -> [0. 0. 0. 1. 0. 0. 0. 0. 0. 0.]\n",
            "[0. 0. 0. 0. 0. 0. 1. 0. 0. 0.] -> [0. 0. 0. 0. 0. 0. 1. 0. 0. 0.]\n",
            "[0. 1. 0. 0. 0. 0. 0. 0. 0. 0.] -> [0. 1. 0. 0. 0. 0. 0. 0. 0. 0.]\n",
            "[0. 0. 0. 1. 0. 0. 0. 0. 0. 0.] -> [0. 0. 0. 1. 0. 0. 0. 0. 0. 0.]\n",
            "[0. 0. 0. 0. 0. 0. 1. 0. 0. 0.] -> [0. 0. 0. 0. 0. 0. 1. 0. 0. 0.]\n",
            "[0.   0.   0.   0.   0.01 0.   0.   0.   0.   0.99] -> [0. 0. 0. 0. 0. 0. 0. 0. 0. 1.]\n",
            "[0.   0.   0.   0.98 0.   0.01 0.   0.   0.   0.  ] -> [0. 0. 0. 1. 0. 0. 0. 0. 0. 0.]\n",
            "[0. 1. 0. 0. 0. 0. 0. 0. 0. 0.] -> [0. 1. 0. 0. 0. 0. 0. 0. 0. 0.]\n",
            "[0. 0. 0. 0. 1. 0. 0. 0. 0. 0.] -> [0. 0. 0. 0. 1. 0. 0. 0. 0. 0.]\n",
            "[0.   0.73 0.   0.   0.13 0.   0.   0.   0.   0.14] -> [0. 1. 0. 0. 0. 0. 0. 0. 0. 0.]\n",
            "[0. 0. 0. 0. 0. 0. 0. 1. 0. 0.] -> [0. 0. 0. 0. 0. 0. 0. 1. 0. 0.]\n",
            "[0. 0. 0. 0. 0. 0. 1. 0. 0. 0.] -> [0. 0. 0. 0. 0. 0. 1. 0. 0. 0.]\n",
            "[0. 0. 0. 0. 0. 0. 0. 0. 0. 1.] -> [0. 0. 0. 0. 0. 0. 0. 0. 0. 1.]\n"
          ]
        }
      ],
      "source": [
        "for i in range(100):\n",
        "  if np.argmax(predictions[i]) == np.argmax(y_test[i]):\n",
        "    print(predictions[i], \"->\", y_test[i])\n",
        "  else:\n",
        "    print(predictions[i], \"->\", y_test[i], \"X\")"
      ]
    },
    {
      "cell_type": "markdown",
      "metadata": {
        "id": "aEmtCkOcJiIP"
      },
      "source": [
        "# Conjuntos de entrenamiento, validación y test\n",
        "\n",
        "Si nos enfrentáramos a un problema de clasificación con responsabilildad deberíamos ser capaces de asegurar que el rendimiento que decimos que tiene nuestra red es el que realmente tiene (y no necesariamente una red, sino a cualquier modelo de clasificación que utilicemos. No solo de redes vive el experto en machine learning).\n",
        "\n",
        "Para ello, en este ejemplo hemos hecho uso del conjunto de test. Pero, cuando entrenamos una red hacemos muchas pruebas, muchos cambios en su configuración (los hiperparámetros) buscando una de ellas que nos dé los mejores resultados. Llegará un momento en el que hemos hecho tantas modificaciones en la red que nuestro conjunto de test logrará un buen accuracy. Sin embargo, ¿cómo podemos estar seguros de que la red funcionaría bien para un nuevo conjunto de test? Es decir, quizá hayamos involuntariamente optimizado la red para que funcione bien sobre el conjunto de test.\n",
        "\n",
        "La forma de asegurar que hemos entrenado una red que generaliza correctamente es la que hemos usado siempre en clase, disponer de tres conjuntos: entrenamiento, validación y test. Con el de entrenamiento, entrenamos, y utilizaremos el conjunto de validación para comprobar el nivel de accuracy logrado en ese modelo. Al final de todas las pruebas que hayamos hecho, dispondremos de nuestro modelo final. En ese momento tomaremos nuestro conjunto de test (que previamente habíamos guardado bajo llave para evitar la tentación de utilizarlo antes) y lo pasaremos por la red. El accuracy que nos devuelva este conjunto de test será nuestro resultado final."
      ]
    },
    {
      "cell_type": "markdown",
      "metadata": {
        "id": "z0rSiYdXqw7O"
      },
      "source": [
        "# Guardar el modelo"
      ]
    },
    {
      "cell_type": "code",
      "execution_count": 22,
      "metadata": {
        "id": "PO4ecB6NqrWx"
      },
      "outputs": [],
      "source": [
        "model.save(\"mnist_model.keras\")"
      ]
    }
  ],
  "metadata": {
    "accelerator": "GPU",
    "colab": {
      "gpuType": "T4",
      "provenance": []
    },
    "kernelspec": {
      "display_name": "Python 3",
      "name": "python3"
    },
    "language_info": {
      "name": "python"
    }
  },
  "nbformat": 4,
  "nbformat_minor": 0
}
